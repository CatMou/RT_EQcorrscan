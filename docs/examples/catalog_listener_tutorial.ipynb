{
 "cells": [
  {
   "cell_type": "markdown",
   "metadata": {},
   "source": [
    "# Catalog Listener\n",
    "\n",
    "The `CatalogListener` class provides methods for listening to an FDSN (or similar) client for new events. These events can be used to generate\n",
    "template which can be stored in the provided `TemplateBank`. The `CatalogListener` is a subclass of the `_Listener` abstract base class. Some\n",
    "event services provide a \"push\" service for event updates, and you could write your own listener (that subclasses the `_Listener` ABC) that \n",
    "reacts to push events.  The `CatalogListener` operates on a \"pull\" basis: it regularly queries an event provider for updates.\n",
    "\n",
    "For example, we can set-up a `CatalogListener` to update our `TemplateBank` based on the New Zealand GeoNet catalog. Note that we provide a seperate\n",
    "`waveform_client` because GeoNet provides [recent data through a different](https://www.geonet.org.nz/data/tools/FDSN), but incomplete, service - \n",
    "if your client has near-real time data available via their main FDSN routing you do not need to provide a seperate `waveform_client`."
   ]
  },
  {
   "cell_type": "code",
   "execution_count": 1,
   "metadata": {},
   "outputs": [
    {
     "name": "stdout",
     "output_type": "stream",
     "text": [
      "CatalogListener(client=Client(http://service.geonet.org.nz), catalog=Catalog(0 events), interval=5, **kwargs)\n"
     ]
    }
   ],
   "source": [
    "from obspy.clients.fdsn import Client\n",
    "from obspy import Catalog\n",
    "from rt_eqcorrscan.event_trigger import CatalogListener\n",
    "from rt_eqcorrscan.database import TemplateBank\n",
    "\n",
    "template_bank = TemplateBank(base_path=\"./listening_db\")\n",
    "listener = CatalogListener(\n",
    "    client=Client(\"GEONET\"), waveform_client=Client(\"http://service-nrt.geonet.org.nz\"),\n",
    "    template_bank=template_bank, interval=5)\n",
    "print(listener)"
   ]
  },
  {
   "cell_type": "markdown",
   "metadata": {},
   "source": [
    "When we instantiate the listener it doesn't automatically run.  We have the option to run the listener either in the foreground, or in a background\n",
    "(daemon) thread. Running it in the background allows us to do other things while the listener runs. We pass `template_kwargs` as a dictionary of\n",
    "arguments supported by EQcorrscan's `template_gen` [function](https://eqcorrscan.readthedocs.io/en/latest/submodules/autogen/eqcorrscan.core.template_gen.template_gen.html#eqcorrscan.core.template_gen.template_gen).\n",
    "\n",
    "For this example we will set the logging output level to debug to get some output while running - in higher levels this process should be nearly silent."
   ]
  },
  {
   "cell_type": "code",
   "execution_count": 2,
   "metadata": {},
   "outputs": [
    {
     "name": "stderr",
     "output_type": "stream",
     "text": [
      "2019-07-18 13:23:38,438\trt_eqcorrscan.event_trigger.catalog_listener\tDEBUG\tChecking for new events between 2019-07-18T01:23:38.425452Z and 2019-07-18T01:23:38.438295Z\n",
      "2019-07-18 13:23:38,438\trt_eqcorrscan.event_trigger.listener\tINFO\tStarted listening to http://service.geonet.org.nz\n"
     ]
    },
    {
     "name": "stdout",
     "output_type": "stream",
     "text": [
      "CatalogListener(client=Client(http://service.geonet.org.nz), catalog=Catalog(0 events), interval=5, **kwargs)\n"
     ]
    },
    {
     "name": "stderr",
     "output_type": "stream",
     "text": [
      "2019-07-18 13:23:38,549\trt_eqcorrscan.event_trigger.catalog_listener\tDEBUG\tNo new data\n",
      "2019-07-18 13:23:43,555\trt_eqcorrscan.event_trigger.catalog_listener\tDEBUG\tChecking for new events between 2019-07-18T01:23:38.425452Z and 2019-07-18T01:23:43.555627Z\n",
      "2019-07-18 13:23:43,664\trt_eqcorrscan.event_trigger.catalog_listener\tDEBUG\tNo new data\n"
     ]
    }
   ],
   "source": [
    "import logging\n",
    "\n",
    "logging.basicConfig(\n",
    "    level=\"DEBUG\", format=\"%(asctime)s\\t%(name)s\\t%(levelname)s\\t%(message)s\")\n",
    "\n",
    "listener.background_run(\n",
    "    template_kwargs={\n",
    "        \"lowcut\": 2.0, \"highcut\": 15.0, \"filt_order\": 4, \"samp_rate\": 50., \"length\": 4.,\n",
    "        \"prepick\": .2, \"swin\": \"all\", \"process_len\": 300, \"min_snr\": 0,})\n",
    "print(listener)"
   ]
  },
  {
   "cell_type": "markdown",
   "metadata": {},
   "source": [
    "The listener has a cache of events with it, the length of this cache is controlled by the `keep` keyword argument on instantiation.  While the\n",
    "listener is running in the background we can query the cache to see what has changed."
   ]
  },
  {
   "cell_type": "code",
   "execution_count": 3,
   "metadata": {},
   "outputs": [
    {
     "name": "stdout",
     "output_type": "stream",
     "text": [
      "[]\n"
     ]
    }
   ],
   "source": [
    "print(listener.old_events)"
   ]
  },
  {
   "cell_type": "markdown",
   "metadata": {},
   "source": [
    "Depending on what was happening when this notebook ran, the above cell might output a list with event ids and times, or it might output an empty list.\n",
    "\n",
    "We can stop the listener when we are done with it."
   ]
  },
  {
   "cell_type": "code",
   "execution_count": 4,
   "metadata": {},
   "outputs": [],
   "source": [
    "listener.background_stop()"
   ]
  },
  {
   "cell_type": "markdown",
   "metadata": {},
   "source": [
    "This can take a while: it will wait until the next expected update before stopping.\n",
    "\n",
    "The listener above will automatically update the `template_bank` when events are registered. You can turn this off using the `make_templates`\n",
    "keyword argument on `run` and `background_run`"
   ]
  },
  {
   "cell_type": "code",
   "execution_count": 5,
   "metadata": {},
   "outputs": [
    {
     "name": "stderr",
     "output_type": "stream",
     "text": [
      "2019-07-18 13:23:59,710\trt_eqcorrscan.event_trigger.catalog_listener\tDEBUG\tChecking for new events between 2019-07-18T01:23:38.425452Z and 2019-07-18T01:23:59.710583Z\n",
      "2019-07-18 13:23:59,710\trt_eqcorrscan.event_trigger.listener\tINFO\tStarted listening to http://service.geonet.org.nz\n",
      "2019-07-18 13:23:59,823\trt_eqcorrscan.event_trigger.catalog_listener\tDEBUG\tNo new data\n"
     ]
    },
    {
     "name": "stdout",
     "output_type": "stream",
     "text": [
      "CatalogListener(client=Client(http://service.geonet.org.nz), catalog=Catalog(0 events), interval=5, **kwargs)\n"
     ]
    }
   ],
   "source": [
    "listener.background_run(make_templates=False)\n",
    "print(listener)\n",
    "listener.background_stop()"
   ]
  }
 ],
 "metadata": {
  "kernelspec": {
   "display_name": "Python 3",
   "language": "python",
   "name": "python3"
  },
  "language_info": {
   "codemirror_mode": {
    "name": "ipython",
    "version": 3
   },
   "file_extension": ".py",
   "mimetype": "text/x-python",
   "name": "python",
   "nbconvert_exporter": "python",
   "pygments_lexer": "ipython3",
   "version": "3.7.3"
  }
 },
 "nbformat": 4,
 "nbformat_minor": 2
}
